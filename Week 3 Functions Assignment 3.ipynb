{
 "cells": [
  {
   "cell_type": "markdown",
   "id": "603d3e00-526e-4702-b766-3982841ad5e5",
   "metadata": {},
   "source": [
    "# Funtions ASSIGNMENT - 1 "
   ]
  },
  {
   "cell_type": "markdown",
   "id": "cefd06b3-6799-4184-a992-5d808fe95fbc",
   "metadata": {},
   "source": [
    "# Q1. Which keyword is used to create a function? Create a function to return a list of odd numbers in the range of 1 to 25."
   ]
  },
  {
   "cell_type": "markdown",
   "id": "7b2a8b1d-8bb0-4ffb-a386-d2fe19c46254",
   "metadata": {},
   "source": [
    "# Ans \n",
    "\n",
    "\" def \" keyword is used to create a function ."
   ]
  },
  {
   "cell_type": "code",
   "execution_count": 2,
   "id": "162f399d-6b5e-4ec2-a03e-18a78267cc5a",
   "metadata": {},
   "outputs": [
    {
     "data": {
      "text/plain": [
       "[1, 3, 5, 7, 9, 11, 13, 15, 17, 19, 21, 23, 25]"
      ]
     },
     "execution_count": 2,
     "metadata": {},
     "output_type": "execute_result"
    }
   ],
   "source": [
    "l=[]\n",
    "def odd_num():\n",
    "    for x in range(1,26):\n",
    "        if x%2!=0:\n",
    "            l.append(x)\n",
    "    return l\n",
    "odd_num()\n",
    "            \n",
    "        "
   ]
  },
  {
   "cell_type": "markdown",
   "id": "3d32937a-5488-4aca-b076-e6ae46b9469a",
   "metadata": {},
   "source": [
    "# Q2. Why *args and **kwargs is used in some functions? Create a function each for *args and **kwargs to demonstrate their use."
   ]
  },
  {
   "cell_type": "markdown",
   "id": "c1b8422c-8c9c-49d3-a904-84ac77bc1b60",
   "metadata": {},
   "source": [
    "# Ans \n",
    "\n",
    "*args -> used when there is not fixed number of arguments and it returns datatype tuple .\n",
    "\n",
    "**kwargs -> when we pass any number of keyword arguments and it returns datatype dict .\n",
    "\n",
    "Example:"
   ]
  },
  {
   "cell_type": "code",
   "execution_count": 14,
   "id": "47c6f3c9-d000-475a-9fd3-f27ebe550c2f",
   "metadata": {},
   "outputs": [
    {
     "data": {
      "text/plain": [
       "(188, tuple)"
      ]
     },
     "execution_count": 14,
     "metadata": {},
     "output_type": "execute_result"
    }
   ],
   "source": [
    "# *args \n",
    "\n",
    "def add(*n): \n",
    "    y=0\n",
    "    for x in n :\n",
    "        y=y+x\n",
    "    return (y , type(n))\n",
    "\n",
    "add(34,4,5,78,67) \n"
   ]
  },
  {
   "cell_type": "code",
   "execution_count": 15,
   "id": "7f763a18-8b20-4eea-9237-1c5d710ddd0d",
   "metadata": {},
   "outputs": [
    {
     "data": {
      "text/plain": [
       "({'a': 1, 'b': 2, 'c': 3, 'd': 4}, dict)"
      ]
     },
     "execution_count": 15,
     "metadata": {},
     "output_type": "execute_result"
    }
   ],
   "source": [
    "# **kwargs\n",
    "\n",
    "def roll_students (**n):\n",
    "    return n , type(n)\n",
    "\n",
    "roll_students(a=1,b=2,c=3,d=4 )"
   ]
  },
  {
   "cell_type": "markdown",
   "id": "92293746-1dbe-4cfa-8523-03513c62ffc3",
   "metadata": {},
   "source": [
    "# Q3. What is an iterator in python? Name the method used to initialise the iterator object and the method used for iteration. Use these methods to print the first five elements of the given list [2,4,6,8,10,12,14,16,18,20]."
   ]
  },
  {
   "cell_type": "markdown",
   "id": "98918af2-7e21-4f7e-afbe-f422a7dd4c02",
   "metadata": {},
   "source": [
    "# Ans\n",
    "\n",
    "-object that contains countable number of elements that can be itrated upon \n",
    "\n",
    "-iter with this we can perform iteration in any iterable object. next is used to move throught he elements     that are iterated .\n"
   ]
  },
  {
   "cell_type": "code",
   "execution_count": 17,
   "id": "1c6a2905-4f12-4660-b2ce-b000d73768a9",
   "metadata": {},
   "outputs": [
    {
     "name": "stdout",
     "output_type": "stream",
     "text": [
      "2\n",
      "4\n",
      "6\n",
      "8\n",
      "10\n"
     ]
    }
   ],
   "source": [
    "l = [2,4,6,8,10,12,14,16,18,20]\n",
    "\n",
    "x=iter(l)\n",
    "print(next(x))\n",
    "print(next(x))\n",
    "print(next(x))\n",
    "print(next(x))\n",
    "print(next(x))"
   ]
  },
  {
   "cell_type": "markdown",
   "id": "42183185-3dd0-4101-89fd-2ff073e5daaf",
   "metadata": {},
   "source": [
    "# Q4. What is a generator function in python? Why yield keyword is used? Give an example of a generator function."
   ]
  },
  {
   "cell_type": "markdown",
   "id": "b4f83e04-d3c8-4b9e-834b-71f8aa5d6b21",
   "metadata": {},
   "source": [
    "# Ans \n",
    "\n",
    "-Generator Function: function that returns an iterator that produces a sequence of values when iterated                          over.\n",
    "\n",
    "-yield keyword is used to produce a value from the generator.\n",
    "\n",
    "Example:\n",
    "\n"
   ]
  },
  {
   "cell_type": "code",
   "execution_count": 21,
   "id": "495312cd-489f-4236-af50-f549848818b4",
   "metadata": {},
   "outputs": [
    {
     "name": "stdout",
     "output_type": "stream",
     "text": [
      "0\n",
      "2\n",
      "4\n",
      "6\n",
      "8\n"
     ]
    }
   ],
   "source": [
    "def s():  \n",
    "    for x in range(10):  \n",
    "        if(x%2==0):  \n",
    "             yield x  \n",
    " \n",
    "for x in s():  \n",
    "    print(x) "
   ]
  },
  {
   "cell_type": "markdown",
   "id": "9d0dd7cd-4b7d-4ada-8e57-bf413abb00de",
   "metadata": {},
   "source": [
    "# Q6. Write a python program to print the first 10 Fibonacci numbers using a while loop."
   ]
  },
  {
   "cell_type": "markdown",
   "id": "4752cb55-3dce-48b9-9618-998f40200c09",
   "metadata": {},
   "source": [
    "# Ans \n"
   ]
  },
  {
   "cell_type": "code",
   "execution_count": 27,
   "id": "28d84dd7-7176-475d-ad6a-5ef6aa7c04a6",
   "metadata": {},
   "outputs": [
    {
     "name": "stdout",
     "output_type": "stream",
     "text": [
      "2\n",
      "[0, 1, 1, 2, 3, 5, 8, 13, 21, 34]\n"
     ]
    }
   ],
   "source": [
    "l=[]\n",
    "n=1\n",
    "x=0\n",
    "y=1\n",
    "while n<=8:\n",
    "    if len(l)<2:\n",
    "        l.append(x)\n",
    "        l.append(y)\n",
    "    \n",
    "    else:\n",
    "        a=l[x] + l[y]\n",
    "        l.append(a)\n",
    "    \n",
    "        n=n+1\n",
    "        x=x+1\n",
    "        y=y+1\n",
    "    \n",
    "print(l)"
   ]
  },
  {
   "cell_type": "markdown",
   "id": "f8b72ef6-973c-4306-8796-f697055791aa",
   "metadata": {},
   "source": [
    "# Q7. Write a List Comprehension to iterate through the given string: ‘pwskills’. Expected output: ['p', 'w', 's', 'k', 'i', 'l', 'l', 's']"
   ]
  },
  {
   "cell_type": "markdown",
   "id": "d1e75f97-9d08-498d-b08b-083fc9adbfa8",
   "metadata": {},
   "source": [
    "# Ans"
   ]
  },
  {
   "cell_type": "code",
   "execution_count": 3,
   "id": "e901ab70-417c-48d6-b5df-789481da639a",
   "metadata": {},
   "outputs": [
    {
     "name": "stdout",
     "output_type": "stream",
     "text": [
      "['p', 'w', 's', 'k', 'i', 'l', 'l', 's']\n"
     ]
    }
   ],
   "source": [
    "l='pwskills'\n",
    "x=[a for a in l]\n",
    "print(x)"
   ]
  },
  {
   "cell_type": "markdown",
   "id": "d62c8531-3177-4326-bbd2-af25ced474dc",
   "metadata": {},
   "source": [
    "# Q8. Write a python program to check whether a given number is Palindrome or not using a while loop."
   ]
  },
  {
   "cell_type": "code",
   "execution_count": 2,
   "id": "cc01443c-9fdb-441b-b097-c5712985233a",
   "metadata": {},
   "outputs": [
    {
     "name": "stdin",
     "output_type": "stream",
     "text": [
      "enter the number 46464\n"
     ]
    },
    {
     "name": "stdout",
     "output_type": "stream",
     "text": [
      "Given numnber is palidrome\n"
     ]
    }
   ],
   "source": [
    "n = int(input(\"enter the number\"))\n",
    "l=[]\n",
    "t=n\n",
    "\n",
    "while t>0:\n",
    "    l.append(t%10)\n",
    "    t=t//10\n",
    "l1 = l[::-1]\n",
    "if l == l1:\n",
    "    print(\"Given numnber is palidrome\")\n",
    "else:\n",
    "    print(\"Not a Palidrome\")\n",
    "\n",
    "\n"
   ]
  },
  {
   "cell_type": "markdown",
   "id": "008e7e31-e845-4e5a-9693-f701f212b03c",
   "metadata": {},
   "source": [
    "# Q9. Write a code to print odd numbers from 1 to 100 using list comprehension."
   ]
  },
  {
   "cell_type": "markdown",
   "id": "71447268-1929-477d-aa2f-f4297fd88d93",
   "metadata": {},
   "source": [
    "# Ans "
   ]
  },
  {
   "cell_type": "code",
   "execution_count": 8,
   "id": "08fffcf8-234d-43db-a7ef-0fe58961a1e6",
   "metadata": {},
   "outputs": [
    {
     "name": "stdout",
     "output_type": "stream",
     "text": [
      "[1, 3, 5, 7, 9, 11, 13, 15, 17, 19, 21, 23, 25, 27, 29, 31, 33, 35, 37, 39, 41, 43, 45, 47, 49, 51, 53, 55, 57, 59, 61, 63, 65, 67, 69, 71, 73, 75, 77, 79, 81, 83, 85, 87, 89, 91, 93, 95, 97, 99]\n"
     ]
    }
   ],
   "source": [
    "a=[x for x in range(1,101) if x%2!=0]\n",
    "print(a)"
   ]
  },
  {
   "cell_type": "code",
   "execution_count": null,
   "id": "3e8ede1f-212d-4bb7-a6f9-d42bc97a003c",
   "metadata": {},
   "outputs": [],
   "source": []
  },
  {
   "cell_type": "code",
   "execution_count": null,
   "id": "827de9f1-c860-4bd3-a0d1-bb29e95288ee",
   "metadata": {},
   "outputs": [],
   "source": []
  }
 ],
 "metadata": {
  "kernelspec": {
   "display_name": "Python 3 (ipykernel)",
   "language": "python",
   "name": "python3"
  },
  "language_info": {
   "codemirror_mode": {
    "name": "ipython",
    "version": 3
   },
   "file_extension": ".py",
   "mimetype": "text/x-python",
   "name": "python",
   "nbconvert_exporter": "python",
   "pygments_lexer": "ipython3",
   "version": "3.10.8"
  }
 },
 "nbformat": 4,
 "nbformat_minor": 5
}
